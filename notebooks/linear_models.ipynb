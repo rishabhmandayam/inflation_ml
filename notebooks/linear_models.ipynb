{
 "cells": [
  {
   "cell_type": "code",
   "execution_count": 2,
   "metadata": {},
   "outputs": [],
   "source": [
    "import numpy as np\n",
    "import polars as pl\n",
    "import matplotlib as plt"
   ]
  },
  {
   "cell_type": "code",
   "execution_count": 3,
   "metadata": {},
   "outputs": [
    {
     "name": "stderr",
     "output_type": "stream",
     "text": [
      "/var/folders/jb/ckb_b9f94m5dvhsy6d9bwn800000gn/T/ipykernel_48852/3781630620.py:1: DeprecationWarning: The argument `dtypes` for `read_csv` is deprecated. It has been renamed to `schema_overrides`.\n",
      "  df = pl.read_csv(\"../data/selected_features_inflation.csv\", infer_schema_length=10000, dtypes={\"ANDENOx\": pl.Float64})\n"
     ]
    },
    {
     "data": {
      "text/html": [
       "<div><style>\n",
       ".dataframe > thead > tr,\n",
       ".dataframe > tbody > tr {\n",
       "  text-align: right;\n",
       "  white-space: pre-wrap;\n",
       "}\n",
       "</style>\n",
       "<small>shape: (5, 103)</small><table border=\"1\" class=\"dataframe\"><thead><tr><th>sasdate</th><th>CPIAUCSL_YOY</th><th>CUSR0000SA0L5_YOY</th><th>ACOGNO_YOY</th><th>TOTRESNS_YOY</th><th>CUSR0000SAD_YOY</th><th>AMDMUOx_YOY</th><th>S&amp;P PE ratio_MOM</th><th>HWIURATIO</th><th>OILPRICEx_YOY</th><th>USCONS_YOY</th><th>CPIMEDSL_YOY</th><th>WPSFD49207_YOY</th><th>TOTRESNS_MOM</th><th>IPNMAT_YOY</th><th>S&amp;P 500_MOM</th><th>CES1021000001</th><th>UEMP27OV_YOY</th><th>WPSID61_YOY</th><th>USTRADE</th><th>CES3000000008_YOY</th><th>RPI_YOY</th><th>CUSR0000SAS_YOY</th><th>GS10</th><th>S&amp;P PE ratio_YOY</th><th>IPB51222S</th><th>EXUSUKx</th><th>DTCTHFNM_YOY</th><th>WPSID61_MOM</th><th>COMPAPFFx</th><th>ANDENOx</th><th>CES0600000007</th><th>CLAIMSx</th><th>IPDCONGD_YOY</th><th>IPDCONGD</th><th>OILPRICEx_MOM</th><th>HOUSTNE</th><th>&hellip;</th><th>DSERRG3M086SBEA_YOY</th><th>EXJPUSx_YOY</th><th>ACOGNO_MOM</th><th>EXJPUSx_MOM</th><th>UEMP5TO14_MOM</th><th>EXSZUSx_MOM</th><th>BUSLOANS_YOY</th><th>CES1021000001_MOM</th><th>CLF16OV_MOM</th><th>DTCTHFNM_MOM</th><th>EXCAUSx_MOM</th><th>UEMPLT5_MOM</th><th>CMRMTSPLx_MOM</th><th>CLF16OV_YOY</th><th>CPIMEDSL_MOM</th><th>PERMITNE</th><th>TB6SMFFM</th><th>WPSID62_MOM</th><th>AMDMNOx_YOY</th><th>M1SL_MOM</th><th>IPBUSEQ_MOM</th><th>EXUSUKx_MOM</th><th>CES2000000008_MOM</th><th>PPICMM_YOY</th><th>IPCONGD_MOM</th><th>PPICMM_MOM</th><th>UEMP15T26_YOY</th><th>IPNCONGD_YOY</th><th>USGOVT_MOM</th><th>HOUSTW</th><th>NDMANEMP_MOM</th><th>IPDCONGD_MOM</th><th>AMDMNOx_MOM</th><th>IPNMAT_MOM</th><th>DDURRG3M086SBEA_MOM</th><th>DDURRG3M086SBEA_YOY</th><th>CPIAPPSL_MOM</th></tr><tr><td>str</td><td>f64</td><td>f64</td><td>f64</td><td>f64</td><td>f64</td><td>f64</td><td>f64</td><td>f64</td><td>f64</td><td>f64</td><td>f64</td><td>f64</td><td>f64</td><td>f64</td><td>f64</td><td>f64</td><td>f64</td><td>f64</td><td>f64</td><td>f64</td><td>f64</td><td>f64</td><td>f64</td><td>f64</td><td>f64</td><td>f64</td><td>f64</td><td>f64</td><td>f64</td><td>f64</td><td>f64</td><td>i64</td><td>f64</td><td>f64</td><td>f64</td><td>i64</td><td>&hellip;</td><td>f64</td><td>f64</td><td>f64</td><td>f64</td><td>f64</td><td>f64</td><td>f64</td><td>f64</td><td>f64</td><td>f64</td><td>f64</td><td>f64</td><td>f64</td><td>f64</td><td>f64</td><td>i64</td><td>f64</td><td>f64</td><td>f64</td><td>f64</td><td>f64</td><td>f64</td><td>f64</td><td>f64</td><td>f64</td><td>f64</td><td>f64</td><td>f64</td><td>f64</td><td>i64</td><td>f64</td><td>f64</td><td>f64</td><td>f64</td><td>f64</td><td>f64</td><td>f64</td></tr></thead><tbody><tr><td>&quot;1959-01-01&quot;</td><td>null</td><td>null</td><td>null</td><td>null</td><td>null</td><td>null</td><td>null</td><td>0.333579</td><td>null</td><td>null</td><td>null</td><td>null</td><td>null</td><td>null</td><td>null</td><td>713.0</td><td>null</td><td>null</td><td>5350.3</td><td>null</td><td>null</td><td>null</td><td>4.02</td><td>null</td><td>19.9173</td><td>2.8065</td><td>null</td><td>null</td><td>0.82</td><td>null</td><td>39.8</td><td>291078</td><td>null</td><td>18.9498</td><td>null</td><td>350</td><td>&hellip;</td><td>null</td><td>null</td><td>null</td><td>null</td><td>null</td><td>null</td><td>null</td><td>null</td><td>null</td><td>null</td><td>null</td><td>null</td><td>null</td><td>null</td><td>null</td><td>null</td><td>0.61</td><td>null</td><td>null</td><td>null</td><td>null</td><td>null</td><td>null</td><td>null</td><td>null</td><td>null</td><td>null</td><td>null</td><td>null</td><td>350</td><td>null</td><td>null</td><td>null</td><td>null</td><td>null</td><td>null</td><td>null</td></tr><tr><td>&quot;1959-02-01&quot;</td><td>null</td><td>null</td><td>null</td><td>null</td><td>null</td><td>null</td><td>-0.149749</td><td>0.358386</td><td>null</td><td>null</td><td>null</td><td>null</td><td>-1.587302</td><td>null</td><td>-1.528227</td><td>704.2</td><td>null</td><td>null</td><td>5381.3</td><td>null</td><td>null</td><td>null</td><td>3.96</td><td>null</td><td>19.8631</td><td>2.8093</td><td>null</td><td>0.326797</td><td>0.83</td><td>null</td><td>39.7</td><td>282958</td><td>null</td><td>19.0492</td><td>0.0</td><td>346</td><td>&hellip;</td><td>null</td><td>null</td><td>null</td><td>0.0</td><td>-0.427716</td><td>0.025509</td><td>null</td><td>-1.234222</td><td>-0.422456</td><td>0.0</td><td>0.796195</td><td>-1.270648</td><td>0.736297</td><td>null</td><td>0.473934</td><td>null</td><td>0.7</td><td>-0.632911</td><td>null</td><td>0.359971</td><td>1.338499</td><td>0.099768</td><td>0.408163</td><td>null</td><td>0.733585</td><td>0.0</td><td>null</td><td>null</td><td>0.135719</td><td>344</td><td>0.287632</td><td>0.524544</td><td>4.646258</td><td>1.751079</td><td>0.058252</td><td>null</td><td>-0.223214</td></tr><tr><td>&quot;1959-03-01&quot;</td><td>null</td><td>null</td><td>null</td><td>null</td><td>null</td><td>null</td><td>3.155764</td><td>0.400947</td><td>null</td><td>null</td><td>null</td><td>null</td><td>-1.075269</td><td>null</td><td>2.537886</td><td>704.1</td><td>null</td><td>null</td><td>5431.6</td><td>null</td><td>null</td><td>null</td><td>3.99</td><td>null</td><td>19.9986</td><td>2.8127</td><td>null</td><td>0.0</td><td>0.55</td><td>null</td><td>40.0</td><td>260346</td><td>null</td><td>19.4223</td><td>-1.0</td><td>330</td><td>&hellip;</td><td>null</td><td>null</td><td>null</td><td>0.0</td><td>-6.099656</td><td>0.220249</td><td>null</td><td>-0.014201</td><td>0.619374</td><td>0.414702</td><td>-0.512926</td><td>-6.113256</td><td>-0.336805</td><td>null</td><td>0.471698</td><td>null</td><td>0.33</td><td>0.318471</td><td>null</td><td>0.215208</td><td>1.08067</td><td>0.121027</td><td>-0.406504</td><td>null</td><td>0.0</td><td>1.230769</td><td>null</td><td>null</td><td>0.197141</td><td>374</td><td>0.286807</td><td>1.958612</td><td>2.241358</td><td>1.502019</td><td>0.125877</td><td>null</td><td>0.0</td></tr><tr><td>&quot;1959-04-01&quot;</td><td>null</td><td>null</td><td>null</td><td>null</td><td>null</td><td>null</td><td>1.440165</td><td>0.444973</td><td>null</td><td>null</td><td>null</td><td>null</td><td>1.630435</td><td>null</td><td>1.673789</td><td>705.2</td><td>null</td><td>null</td><td>5395.4</td><td>null</td><td>null</td><td>null</td><td>4.12</td><td>null</td><td>20.0799</td><td>2.8165</td><td>null</td><td>0.0</td><td>0.46</td><td>null</td><td>40.2</td><td>246413</td><td>null</td><td>19.5466</td><td>0.0</td><td>275</td><td>&hellip;</td><td>null</td><td>null</td><td>null</td><td>0.0</td><td>-14.547118</td><td>-0.004627</td><td>null</td><td>0.156228</td><td>0.398131</td><td>1.093206</td><td>-0.639307</td><td>2.398903</td><td>2.011502</td><td>null</td><td>0.0</td><td>null</td><td>0.31</td><td>0.634921</td><td>null</td><td>0.0</td><td>2.613397</td><td>0.135102</td><td>0.816327</td><td>null</td><td>1.577494</td><td>-0.607903</td><td>null</td><td>null</td><td>0.122971</td><td>388</td><td>0.222434</td><td>0.639986</td><td>1.105071</td><td>3.09727</td><td>0.100575</td><td>null</td><td>0.223714</td></tr><tr><td>&quot;1959-05-01&quot;</td><td>null</td><td>null</td><td>null</td><td>null</td><td>null</td><td>null</td><td>1.147522</td><td>0.475711</td><td>null</td><td>null</td><td>null</td><td>null</td><td>-0.534759</td><td>null</td><td>1.50613</td><td>710.0</td><td>null</td><td>null</td><td>5456.3</td><td>null</td><td>null</td><td>null</td><td>4.31</td><td>null</td><td>20.3779</td><td>2.8145</td><td>null</td><td>0.651466</td><td>0.66</td><td>null</td><td>40.3</td><td>246952</td><td>null</td><td>19.9445</td><td>0.0</td><td>260</td><td>&hellip;</td><td>null</td><td>null</td><td>null</td><td>0.0</td><td>7.601713</td><td>0.004627</td><td>null</td><td>0.680658</td><td>-0.23559</td><td>1.297661</td><td>-0.062267</td><td>-1.004016</td><td>0.686227</td><td>null</td><td>0.469484</td><td>null</td><td>0.43</td><td>-0.630915</td><td>null</td><td>0.71582</td><td>3.240249</td><td>-0.07101</td><td>0.404858</td><td>null</td><td>0.47775</td><td>0.611621</td><td>null</td><td>null</td><td>0.135102</td><td>396</td><td>0.301205</td><td>2.035648</td><td>-4.212454</td><td>0.898387</td><td>0.16641</td><td>null</td><td>0.223214</td></tr></tbody></table></div>"
      ],
      "text/plain": [
       "shape: (5, 103)\n",
       "┌───────────┬───────────┬───────────┬───────────┬───┬───────────┬───────────┬───────────┬──────────┐\n",
       "│ sasdate   ┆ CPIAUCSL_ ┆ CUSR0000S ┆ ACOGNO_YO ┆ … ┆ IPNMAT_MO ┆ DDURRG3M0 ┆ DDURRG3M0 ┆ CPIAPPSL │\n",
       "│ ---       ┆ YOY       ┆ A0L5_YOY  ┆ Y         ┆   ┆ M         ┆ 86SBEA_MO ┆ 86SBEA_YO ┆ _MOM     │\n",
       "│ str       ┆ ---       ┆ ---       ┆ ---       ┆   ┆ ---       ┆ M         ┆ Y         ┆ ---      │\n",
       "│           ┆ f64       ┆ f64       ┆ f64       ┆   ┆ f64       ┆ ---       ┆ ---       ┆ f64      │\n",
       "│           ┆           ┆           ┆           ┆   ┆           ┆ f64       ┆ f64       ┆          │\n",
       "╞═══════════╪═══════════╪═══════════╪═══════════╪═══╪═══════════╪═══════════╪═══════════╪══════════╡\n",
       "│ 1959-01-0 ┆ null      ┆ null      ┆ null      ┆ … ┆ null      ┆ null      ┆ null      ┆ null     │\n",
       "│ 1         ┆           ┆           ┆           ┆   ┆           ┆           ┆           ┆          │\n",
       "│ 1959-02-0 ┆ null      ┆ null      ┆ null      ┆ … ┆ 1.751079  ┆ 0.058252  ┆ null      ┆ -0.22321 │\n",
       "│ 1         ┆           ┆           ┆           ┆   ┆           ┆           ┆           ┆ 4        │\n",
       "│ 1959-03-0 ┆ null      ┆ null      ┆ null      ┆ … ┆ 1.502019  ┆ 0.125877  ┆ null      ┆ 0.0      │\n",
       "│ 1         ┆           ┆           ┆           ┆   ┆           ┆           ┆           ┆          │\n",
       "│ 1959-04-0 ┆ null      ┆ null      ┆ null      ┆ … ┆ 3.09727   ┆ 0.100575  ┆ null      ┆ 0.223714 │\n",
       "│ 1         ┆           ┆           ┆           ┆   ┆           ┆           ┆           ┆          │\n",
       "│ 1959-05-0 ┆ null      ┆ null      ┆ null      ┆ … ┆ 0.898387  ┆ 0.16641   ┆ null      ┆ 0.223214 │\n",
       "│ 1         ┆           ┆           ┆           ┆   ┆           ┆           ┆           ┆          │\n",
       "└───────────┴───────────┴───────────┴───────────┴───┴───────────┴───────────┴───────────┴──────────┘"
      ]
     },
     "metadata": {},
     "output_type": "display_data"
    },
    {
     "name": "stdout",
     "output_type": "stream",
     "text": [
      "\n",
      "Dataframe info:\n",
      "Shape: (793, 103)\n",
      "Column names: ['sasdate', 'CPIAUCSL_YOY', 'CUSR0000SA0L5_YOY', 'ACOGNO_YOY', 'TOTRESNS_YOY', 'CUSR0000SAD_YOY', 'AMDMUOx_YOY', 'S&P PE ratio_MOM', 'HWIURATIO', 'OILPRICEx_YOY', 'USCONS_YOY', 'CPIMEDSL_YOY', 'WPSFD49207_YOY', 'TOTRESNS_MOM', 'IPNMAT_YOY', 'S&P 500_MOM', 'CES1021000001', 'UEMP27OV_YOY', 'WPSID61_YOY', 'USTRADE', 'CES3000000008_YOY', 'RPI_YOY', 'CUSR0000SAS_YOY', 'GS10', 'S&P PE ratio_YOY', 'IPB51222S', 'EXUSUKx', 'DTCTHFNM_YOY', 'WPSID61_MOM', 'COMPAPFFx', 'ANDENOx', 'CES0600000007', 'CLAIMSx', 'IPDCONGD_YOY', 'IPDCONGD', 'OILPRICEx_MOM', 'HOUSTNE', 'REALLN_MOM', 'BOGMBASE_MOM', 'DTCOLNVHFNM_YOY', 'NDMANEMP_YOY', 'TWEXAFEGSMTHx_YOY', 'ANDENOx_MOM', 'CPIAPPSL_YOY', 'DSERRG3M086SBEA_MOM', 'IPFUELS_MOM', 'RETAILx_MOM', 'W875RX1_MOM', 'CUSR0000SAS_MOM', 'CUSR0000SA0L5_MOM', 'CUSR0000SAD', 'BUSINVx_MOM', 'UEMPLT5_YOY', 'INVEST_MOM', 'EXSZUSx', 'IPMAT_YOY', 'UMCSENTx', 'BOGMBASE_YOY', 'UEMP15OV_MOM', 'RETAILx_YOY', 'USGOVT_YOY', 'CES3000000008_MOM', 'AAAFFM', 'NONREVSL_MOM', 'AMDMUOx_MOM', 'ANDENOx_YOY', 'DSERRG3M086SBEA_YOY', 'EXJPUSx_YOY', 'ACOGNO_MOM', 'EXJPUSx_MOM', 'UEMP5TO14_MOM', 'EXSZUSx_MOM', 'BUSLOANS_YOY', 'CES1021000001_MOM', 'CLF16OV_MOM', 'DTCTHFNM_MOM', 'EXCAUSx_MOM', 'UEMPLT5_MOM', 'CMRMTSPLx_MOM', 'CLF16OV_YOY', 'CPIMEDSL_MOM', 'PERMITNE', 'TB6SMFFM', 'WPSID62_MOM', 'AMDMNOx_YOY', 'M1SL_MOM', 'IPBUSEQ_MOM', 'EXUSUKx_MOM', 'CES2000000008_MOM', 'PPICMM_YOY', 'IPCONGD_MOM', 'PPICMM_MOM', 'UEMP15T26_YOY', 'IPNCONGD_YOY', 'USGOVT_MOM', 'HOUSTW', 'NDMANEMP_MOM', 'IPDCONGD_MOM', 'AMDMNOx_MOM', 'IPNMAT_MOM', 'DDURRG3M086SBEA_MOM', 'DDURRG3M086SBEA_YOY', 'CPIAPPSL_MOM']\n",
      "Data types:\n",
      "[String, Float64, Float64, Float64, Float64, Float64, Float64, Float64, Float64, Float64, Float64, Float64, Float64, Float64, Float64, Float64, Float64, Float64, Float64, Float64, Float64, Float64, Float64, Float64, Float64, Float64, Float64, Float64, Float64, Float64, Float64, Float64, Int64, Float64, Float64, Float64, Int64, Float64, Float64, Float64, Float64, Float64, Float64, Float64, Float64, Float64, Float64, Float64, Float64, Float64, Float64, Float64, Float64, Float64, Float64, Float64, Float64, Float64, Float64, Float64, Float64, Float64, Float64, Float64, Float64, Float64, Float64, Float64, Float64, Float64, Float64, Float64, Float64, Float64, Float64, Float64, Float64, Float64, Float64, Float64, Float64, Int64, Float64, Float64, Float64, Float64, Float64, Float64, Float64, Float64, Float64, Float64, Float64, Float64, Float64, Int64, Float64, Float64, Float64, Float64, Float64, Float64, Float64]\n"
     ]
    }
   ],
   "source": [
    "df = pl.read_csv(\"../data/selected_features_inflation.csv\", infer_schema_length=10000, dtypes={\"ANDENOx\": pl.Float64})\n",
    "\n",
    "display(df.head())\n",
    "\n",
    "print(\"\\nDataframe info:\")\n",
    "print(f\"Shape: {df.shape}\")\n",
    "print(f\"Column names: {df.columns}\")\n",
    "print(f\"Data types:\\n{df.dtypes}\")"
   ]
  },
  {
   "cell_type": "code",
   "execution_count": 4,
   "metadata": {},
   "outputs": [
    {
     "name": "stdout",
     "output_type": "stream",
     "text": [
      "\n",
      "OLS Regression Results for CPIAUCSL_YOY ~ CUSR0000SA0L5_YOY (lagged by 1) - Post 2008 Data\n",
      "                            OLS Regression Results                            \n",
      "==============================================================================\n",
      "Dep. Variable:           CPIAUCSL_YOY   R-squared:                       0.950\n",
      "Model:                            OLS   Adj. R-squared:                  0.950\n",
      "Method:                 Least Squares   F-statistic:                     3837.\n",
      "Date:                Wed, 02 Apr 2025   Prob (F-statistic):          8.25e-134\n",
      "Time:                        13:17:37   Log-Likelihood:                -131.05\n",
      "No. Observations:                 205   AIC:                             266.1\n",
      "Df Residuals:                     203   BIC:                             272.8\n",
      "Df Model:                           1                                         \n",
      "Covariance Type:            nonrobust                                         \n",
      "==========================================================================================\n",
      "                             coef    std err          t      P>|t|      [0.025      0.975]\n",
      "------------------------------------------------------------------------------------------\n",
      "Intercept                  0.2753      0.048      5.724      0.000       0.180       0.370\n",
      "CUSR0000SA0L5_YOY_lag1     0.8941      0.014     61.947      0.000       0.866       0.923\n",
      "==============================================================================\n",
      "Omnibus:                       42.614   Durbin-Watson:                   0.948\n",
      "Prob(Omnibus):                  0.000   Jarque-Bera (JB):              330.385\n",
      "Skew:                          -0.465   Prob(JB):                     1.81e-72\n",
      "Kurtosis:                       9.149   Cond. No.                         5.24\n",
      "==============================================================================\n",
      "\n",
      "Notes:\n",
      "[1] Standard Errors assume that the covariance matrix of the errors is correctly specified.\n"
     ]
    }
   ],
   "source": [
    "import statsmodels as sm\n",
    "import statsmodels.api as sm\n",
    "from statsmodels.formula.api import ols\n",
    "import datetime\n",
    "\n",
    "target = 'CPIAUCSL_YOY'\n",
    "predictor = 'CUSR0000SA0L5_YOY'\n",
    "\n",
    "# Create a lagged version of the predictor to avoid lookahead bias\n",
    "df_with_lag = df.with_columns(\n",
    "    pl.col(predictor).shift(1).alias(f\"{predictor}_lag1\")\n",
    ")\n",
    "\n",
    "# Filter data to include only post-2008 observations\n",
    "post_2008_df = df_with_lag.filter(\n",
    "    pl.col(\"sasdate\").str.strptime(pl.Date, \"%Y-%m-%d\") >= datetime.date(2008, 1, 1)\n",
    ")\n",
    "\n",
    "\n",
    "\n",
    "train_df = post_2008_df.select([\"sasdate\", target, f\"{predictor}_lag1\"])\n",
    "\n",
    "\n",
    "train_df = train_df.drop_nulls()\n",
    "\n",
    "formula = f\"{target} ~ {predictor}_lag1\"\n",
    "model = ols(formula, data=train_df.to_pandas()).fit()\n",
    "\n",
    "print(f\"\\nOLS Regression Results for {target} ~ {predictor} (lagged by 1) - Post 2008 Data\")\n",
    "print(model.summary())"
   ]
  },
  {
   "cell_type": "code",
   "execution_count": 5,
   "metadata": {},
   "outputs": [
    {
     "name": "stdout",
     "output_type": "stream",
     "text": [
      "\n",
      "Results for dates between 1970-2005:\n",
      "Mean Squared Error (MSE): 0.292938\n",
      "Root Mean Squared Error (RMSE): 0.541237\n",
      "R-squared: 0.949759\n"
     ]
    }
   ],
   "source": [
    "# Calculate Mean Squared Error (MSE) for the OLS model, but only for dates between 1970 and 2005\n",
    "from sklearn.metrics import mean_squared_error\n",
    "import datetime\n",
    "\n",
    "filtered_df = df_with_lag.with_columns(\n",
    "    pl.col(\"sasdate\").str.strptime(pl.Date, \"%Y-%m-%d\").alias(\"date\")\n",
    ").filter(\n",
    "    (pl.col(\"date\") >= datetime.date(1970, 1, 1)) & \n",
    "    (pl.col(\"date\") <= datetime.date(2005, 12, 31))\n",
    ")\n",
    "\n",
    "y_true_filtered = filtered_df[target]\n",
    "y_pred_filtered = model.predict(filtered_df.to_pandas())\n",
    "\n",
    "mse_filtered = mean_squared_error(y_true_filtered, y_pred_filtered)\n",
    "rmse_filtered = np.sqrt(mse_filtered)\n",
    "r2_filtered = model.rsquared\n",
    "\n",
    "print(f\"\\nResults for dates between 1970-2005:\")\n",
    "print(f\"Mean Squared Error (MSE): {mse_filtered:.6f}\")\n",
    "print(f\"Root Mean Squared Error (RMSE): {rmse_filtered:.6f}\")\n",
    "print(f\"R-squared: {r2_filtered:.6f}\")\n"
   ]
  },
  {
   "cell_type": "code",
   "execution_count": 6,
   "metadata": {},
   "outputs": [
    {
     "ename": "NameError",
     "evalue": "name 'plt' is not defined",
     "output_type": "error",
     "traceback": [
      "\u001b[0;31m---------------------------------------------------------------------------\u001b[0m",
      "\u001b[0;31mNameError\u001b[0m                                 Traceback (most recent call last)",
      "Cell \u001b[0;32mIn[6], line 1\u001b[0m\n\u001b[0;32m----> 1\u001b[0m \u001b[43mplt\u001b[49m\u001b[38;5;241m.\u001b[39mfigure(figsize\u001b[38;5;241m=\u001b[39m(\u001b[38;5;241m10\u001b[39m, \u001b[38;5;241m6\u001b[39m))\n\u001b[1;32m      2\u001b[0m plt\u001b[38;5;241m.\u001b[39mscatter(filtered_df[\u001b[38;5;124m'\u001b[39m\u001b[38;5;124mCUSR0000SA0L5_YOY_lag1\u001b[39m\u001b[38;5;124m'\u001b[39m], filtered_df[target], alpha\u001b[38;5;241m=\u001b[39m\u001b[38;5;241m0.5\u001b[39m)\n\u001b[1;32m      3\u001b[0m plt\u001b[38;5;241m.\u001b[39mplot(filtered_df[\u001b[38;5;124m'\u001b[39m\u001b[38;5;124mCUSR0000SA0L5_YOY_lag1\u001b[39m\u001b[38;5;124m'\u001b[39m], y_pred_filtered, color\u001b[38;5;241m=\u001b[39m\u001b[38;5;124m'\u001b[39m\u001b[38;5;124mred\u001b[39m\u001b[38;5;124m'\u001b[39m, linewidth\u001b[38;5;241m=\u001b[39m\u001b[38;5;241m2\u001b[39m)\n",
      "\u001b[0;31mNameError\u001b[0m: name 'plt' is not defined"
     ]
    }
   ],
   "source": [
    "plt.figure(figsize=(10, 6))\n",
    "plt.scatter(filtered_df['CUSR0000SA0L5_YOY_lag1'], filtered_df[target], alpha=0.5)\n",
    "plt.plot(filtered_df['CUSR0000SA0L5_YOY_lag1'], y_pred_filtered, color='red', linewidth=2)\n",
    "plt.xlabel(predictor)\n",
    "plt.ylabel(target)\n",
    "plt.title(f'OLS Regression: {target} ~ {predictor} (1970-2005)')\n",
    "plt.grid(True, alpha=0.3)\n",
    "plt.show()"
   ]
  },
  {
   "cell_type": "code",
   "execution_count": 1,
   "metadata": {},
   "outputs": [
    {
     "ename": "NameError",
     "evalue": "name 'filtered_df' is not defined",
     "output_type": "error",
     "traceback": [
      "\u001b[0;31m---------------------------------------------------------------------------\u001b[0m",
      "\u001b[0;31mNameError\u001b[0m                                 Traceback (most recent call last)",
      "Cell \u001b[0;32mIn[1], line 6\u001b[0m\n\u001b[1;32m      1\u001b[0m \u001b[38;5;66;03m# Assuming you have your test data in filtered_df\u001b[39;00m\n\u001b[1;32m      2\u001b[0m \u001b[38;5;66;03m# and your model is already trained as 'model'\u001b[39;00m\n\u001b[1;32m      3\u001b[0m \n\u001b[1;32m      4\u001b[0m \u001b[38;5;66;03m# The predictions were already created (y_pred_filtered)\u001b[39;00m\n\u001b[1;32m      5\u001b[0m \u001b[38;5;66;03m# Calculate residuals\u001b[39;00m\n\u001b[0;32m----> 6\u001b[0m residuals \u001b[38;5;241m=\u001b[39m \u001b[43mfiltered_df\u001b[49m[target] \u001b[38;5;241m-\u001b[39m y_pred_filtered\n\u001b[1;32m      8\u001b[0m plt\u001b[38;5;241m.\u001b[39mfigure(figsize\u001b[38;5;241m=\u001b[39m(\u001b[38;5;241m10\u001b[39m, \u001b[38;5;241m6\u001b[39m))\n\u001b[1;32m     10\u001b[0m plt\u001b[38;5;241m.\u001b[39mscatter(y_pred_filtered, residuals, alpha\u001b[38;5;241m=\u001b[39m\u001b[38;5;241m0.5\u001b[39m)\n",
      "\u001b[0;31mNameError\u001b[0m: name 'filtered_df' is not defined"
     ]
    }
   ],
   "source": [
    "# Assuming you have your test data in filtered_df\n",
    "# and your model is already trained as 'model'\n",
    "\n",
    "# The predictions were already created (y_pred_filtered)\n",
    "# Calculate residuals\n",
    "residuals = filtered_df[target] - y_pred_filtered\n",
    "\n",
    "plt.figure(figsize=(10, 6))\n",
    "\n",
    "plt.scatter(y_pred_filtered, residuals, alpha=0.5)\n",
    "plt.axhline(y=0, color='r', linestyle='-', linewidth=2)\n",
    "plt.xlabel(\"Predicted Values\")\n",
    "plt.ylabel(\"Residuals\")\n",
    "plt.title(\"Residual Plot (Test Sample)\")\n",
    "plt.grid(True, alpha=0.3)\n",
    "\n",
    "z = np.polyfit(y_pred_filtered, residuals, 1)\n",
    "p = np.poly1d(z)\n",
    "plt.plot(y_pred_filtered, p(y_pred_filtered), \"r--\", alpha=0.8)\n",
    "\n",
    "plt.tight_layout()\n",
    "plt.show()"
   ]
  },
  {
   "cell_type": "code",
   "execution_count": null,
   "metadata": {},
   "outputs": [],
   "source": []
  }
 ],
 "metadata": {
  "kernelspec": {
   "display_name": "base",
   "language": "python",
   "name": "python3"
  },
  "language_info": {
   "codemirror_mode": {
    "name": "ipython",
    "version": 3
   },
   "file_extension": ".py",
   "mimetype": "text/x-python",
   "name": "python",
   "nbconvert_exporter": "python",
   "pygments_lexer": "ipython3",
   "version": "3.12.9"
  }
 },
 "nbformat": 4,
 "nbformat_minor": 2
}
