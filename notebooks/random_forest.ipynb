{
 "cells": [
  {
   "cell_type": "code",
   "execution_count": 8,
   "metadata": {},
   "outputs": [],
   "source": [
    "import numpy as np\n",
    "import polars as pl\n",
    "import pandas as pd\n",
    "import matplotlib.pyplot as plt"
   ]
  },
  {
   "cell_type": "code",
   "execution_count": 9,
   "metadata": {},
   "outputs": [
    {
     "name": "stderr",
     "output_type": "stream",
     "text": [
      "/var/folders/jb/ckb_b9f94m5dvhsy6d9bwn800000gn/T/ipykernel_49402/3781630620.py:1: DeprecationWarning: The argument `dtypes` for `read_csv` is deprecated. It has been renamed to `schema_overrides`.\n",
      "  df = pl.read_csv(\"../data/selected_features_inflation.csv\", infer_schema_length=10000, dtypes={\"ANDENOx\": pl.Float64})\n"
     ]
    },
    {
     "data": {
      "text/html": [
       "<div><style>\n",
       ".dataframe > thead > tr,\n",
       ".dataframe > tbody > tr {\n",
       "  text-align: right;\n",
       "  white-space: pre-wrap;\n",
       "}\n",
       "</style>\n",
       "<small>shape: (5, 27)</small><table border=\"1\" class=\"dataframe\"><thead><tr><th>sasdate</th><th>CPIAUCSL_MOM</th><th>TOTRESNS_MOM</th><th>OILPRICEx_MOM</th><th>DDURRG3M086SBEA_YOY</th><th>DPCERA3M086SBEA_YOY</th><th>OILPRICEx_YOY</th><th>S&amp;P PE ratio_MOM</th><th>AMDMUOx_YOY</th><th>ACOGNO_MOM</th><th>CES3000000008_YOY</th><th>CES0600000007</th><th>W875RX1_MOM</th><th>IPB51222S</th><th>TWEXAFEGSMTHx_MOM</th><th>IPNMAT_MOM</th><th>RPI_YOY</th><th>BUSINVx_MOM</th><th>WPSFD49207_MOM</th><th>ANDENOx_MOM</th><th>CLAIMSx_MOM</th><th>WPSID62_MOM</th><th>PERMITNE</th><th>CUSR0000SAD_YOY</th><th>CPITRNSL_MOM</th><th>UEMP15T26_MOM</th><th>EXSZUSx_MOM</th></tr><tr><td>str</td><td>f64</td><td>f64</td><td>f64</td><td>f64</td><td>f64</td><td>f64</td><td>f64</td><td>f64</td><td>f64</td><td>f64</td><td>f64</td><td>f64</td><td>f64</td><td>f64</td><td>f64</td><td>f64</td><td>f64</td><td>f64</td><td>f64</td><td>f64</td><td>f64</td><td>i64</td><td>f64</td><td>f64</td><td>f64</td><td>f64</td></tr></thead><tbody><tr><td>&quot;1959-01-01&quot;</td><td>null</td><td>null</td><td>null</td><td>null</td><td>null</td><td>null</td><td>null</td><td>null</td><td>null</td><td>null</td><td>39.8</td><td>null</td><td>19.9173</td><td>null</td><td>null</td><td>null</td><td>null</td><td>null</td><td>null</td><td>null</td><td>null</td><td>null</td><td>null</td><td>null</td><td>null</td><td>null</td></tr><tr><td>&quot;1959-02-01&quot;</td><td>-0.034471</td><td>-1.587302</td><td>0.0</td><td>null</td><td>null</td><td>null</td><td>-0.149749</td><td>null</td><td>null</td><td>null</td><td>39.7</td><td>0.362737</td><td>19.8631</td><td>null</td><td>1.751079</td><td>null</td><td>0.344274</td><td>0.302115</td><td>null</td><td>-2.78963</td><td>-0.632911</td><td>null</td><td>null</td><td>0.341297</td><td>-8.249158</td><td>0.025509</td></tr><tr><td>&quot;1959-03-01&quot;</td><td>-0.103448</td><td>-1.075269</td><td>-1.0</td><td>null</td><td>null</td><td>null</td><td>3.155764</td><td>null</td><td>null</td><td>null</td><td>40.0</td><td>0.735173</td><td>19.9986</td><td>null</td><td>1.502019</td><td>null</td><td>0.514639</td><td>0.0</td><td>null</td><td>-7.991292</td><td>0.318471</td><td>null</td><td>null</td><td>0.680272</td><td>-2.752294</td><td>0.220249</td></tr><tr><td>&quot;1959-04-01&quot;</td><td>0.034518</td><td>1.630435</td><td>0.0</td><td>null</td><td>null</td><td>null</td><td>1.440165</td><td>null</td><td>null</td><td>null</td><td>40.2</td><td>0.705345</td><td>20.0799</td><td>null</td><td>3.09727</td><td>null</td><td>1.342587</td><td>0.0</td><td>null</td><td>-5.351724</td><td>0.634921</td><td>null</td><td>null</td><td>0.337838</td><td>-23.018868</td><td>-0.004627</td></tr><tr><td>&quot;1959-05-01&quot;</td><td>0.207039</td><td>-0.534759</td><td>0.0</td><td>null</td><td>null</td><td>null</td><td>1.147522</td><td>null</td><td>null</td><td>null</td><td>40.3</td><td>0.663968</td><td>20.3779</td><td>null</td><td>0.898387</td><td>null</td><td>0.572583</td><td>0.301205</td><td>null</td><td>0.218738</td><td>-0.630915</td><td>null</td><td>null</td><td>0.0</td><td>-4.411765</td><td>0.004627</td></tr></tbody></table></div>"
      ],
      "text/plain": [
       "shape: (5, 27)\n",
       "┌───────────┬───────────┬───────────┬───────────┬───┬───────────┬───────────┬───────────┬──────────┐\n",
       "│ sasdate   ┆ CPIAUCSL_ ┆ TOTRESNS_ ┆ OILPRICEx ┆ … ┆ CUSR0000S ┆ CPITRNSL_ ┆ UEMP15T26 ┆ EXSZUSx_ │\n",
       "│ ---       ┆ MOM       ┆ MOM       ┆ _MOM      ┆   ┆ AD_YOY    ┆ MOM       ┆ _MOM      ┆ MOM      │\n",
       "│ str       ┆ ---       ┆ ---       ┆ ---       ┆   ┆ ---       ┆ ---       ┆ ---       ┆ ---      │\n",
       "│           ┆ f64       ┆ f64       ┆ f64       ┆   ┆ f64       ┆ f64       ┆ f64       ┆ f64      │\n",
       "╞═══════════╪═══════════╪═══════════╪═══════════╪═══╪═══════════╪═══════════╪═══════════╪══════════╡\n",
       "│ 1959-01-0 ┆ null      ┆ null      ┆ null      ┆ … ┆ null      ┆ null      ┆ null      ┆ null     │\n",
       "│ 1         ┆           ┆           ┆           ┆   ┆           ┆           ┆           ┆          │\n",
       "│ 1959-02-0 ┆ -0.034471 ┆ -1.587302 ┆ 0.0       ┆ … ┆ null      ┆ 0.341297  ┆ -8.249158 ┆ 0.025509 │\n",
       "│ 1         ┆           ┆           ┆           ┆   ┆           ┆           ┆           ┆          │\n",
       "│ 1959-03-0 ┆ -0.103448 ┆ -1.075269 ┆ -1.0      ┆ … ┆ null      ┆ 0.680272  ┆ -2.752294 ┆ 0.220249 │\n",
       "│ 1         ┆           ┆           ┆           ┆   ┆           ┆           ┆           ┆          │\n",
       "│ 1959-04-0 ┆ 0.034518  ┆ 1.630435  ┆ 0.0       ┆ … ┆ null      ┆ 0.337838  ┆ -23.01886 ┆ -0.00462 │\n",
       "│ 1         ┆           ┆           ┆           ┆   ┆           ┆           ┆ 8         ┆ 7        │\n",
       "│ 1959-05-0 ┆ 0.207039  ┆ -0.534759 ┆ 0.0       ┆ … ┆ null      ┆ 0.0       ┆ -4.411765 ┆ 0.004627 │\n",
       "│ 1         ┆           ┆           ┆           ┆   ┆           ┆           ┆           ┆          │\n",
       "└───────────┴───────────┴───────────┴───────────┴───┴───────────┴───────────┴───────────┴──────────┘"
      ]
     },
     "metadata": {},
     "output_type": "display_data"
    },
    {
     "name": "stdout",
     "output_type": "stream",
     "text": [
      "\n",
      "Dataframe info:\n",
      "Shape: (793, 27)\n",
      "Column names: ['sasdate', 'CPIAUCSL_MOM', 'TOTRESNS_MOM', 'OILPRICEx_MOM', 'DDURRG3M086SBEA_YOY', 'DPCERA3M086SBEA_YOY', 'OILPRICEx_YOY', 'S&P PE ratio_MOM', 'AMDMUOx_YOY', 'ACOGNO_MOM', 'CES3000000008_YOY', 'CES0600000007', 'W875RX1_MOM', 'IPB51222S', 'TWEXAFEGSMTHx_MOM', 'IPNMAT_MOM', 'RPI_YOY', 'BUSINVx_MOM', 'WPSFD49207_MOM', 'ANDENOx_MOM', 'CLAIMSx_MOM', 'WPSID62_MOM', 'PERMITNE', 'CUSR0000SAD_YOY', 'CPITRNSL_MOM', 'UEMP15T26_MOM', 'EXSZUSx_MOM']\n",
      "Data types:\n",
      "[String, Float64, Float64, Float64, Float64, Float64, Float64, Float64, Float64, Float64, Float64, Float64, Float64, Float64, Float64, Float64, Float64, Float64, Float64, Float64, Float64, Float64, Int64, Float64, Float64, Float64, Float64]\n"
     ]
    }
   ],
   "source": [
    "df = pl.read_csv(\"../data/selected_features_inflation.csv\", infer_schema_length=10000, dtypes={\"ANDENOx\": pl.Float64})\n",
    "\n",
    "display(df.head())\n",
    "\n",
    "print(\"\\nDataframe info:\")\n",
    "print(f\"Shape: {df.shape}\")\n",
    "print(f\"Column names: {df.columns}\")\n",
    "print(f\"Data types:\\n{df.dtypes}\")"
   ]
  },
  {
   "cell_type": "code",
   "execution_count": 5,
   "metadata": {},
   "outputs": [
    {
     "data": {
      "text/html": [
       "<div><style>\n",
       ".dataframe > thead > tr,\n",
       ".dataframe > tbody > tr {\n",
       "  text-align: right;\n",
       "  white-space: pre-wrap;\n",
       "}\n",
       "</style>\n",
       "<small>shape: (793, 53)</small><table border=\"1\" class=\"dataframe\"><thead><tr><th>sasdate</th><th>CPIAUCSL_MOM</th><th>TOTRESNS_MOM</th><th>OILPRICEx_MOM</th><th>DDURRG3M086SBEA_YOY</th><th>DPCERA3M086SBEA_YOY</th><th>OILPRICEx_YOY</th><th>S&amp;P PE ratio_MOM</th><th>AMDMUOx_YOY</th><th>ACOGNO_MOM</th><th>CES3000000008_YOY</th><th>CES0600000007</th><th>W875RX1_MOM</th><th>IPB51222S</th><th>TWEXAFEGSMTHx_MOM</th><th>IPNMAT_MOM</th><th>RPI_YOY</th><th>BUSINVx_MOM</th><th>WPSFD49207_MOM</th><th>ANDENOx_MOM</th><th>CLAIMSx_MOM</th><th>WPSID62_MOM</th><th>PERMITNE</th><th>CUSR0000SAD_YOY</th><th>CPITRNSL_MOM</th><th>UEMP15T26_MOM</th><th>EXSZUSx_MOM</th><th>CPIAUCSL_MOM_lag1</th><th>TOTRESNS_MOM_lag1</th><th>OILPRICEx_MOM_lag1</th><th>DDURRG3M086SBEA_YOY_lag1</th><th>DPCERA3M086SBEA_YOY_lag1</th><th>OILPRICEx_YOY_lag1</th><th>S&amp;P PE ratio_MOM_lag1</th><th>AMDMUOx_YOY_lag1</th><th>ACOGNO_MOM_lag1</th><th>CES3000000008_YOY_lag1</th><th>CES0600000007_lag1</th><th>W875RX1_MOM_lag1</th><th>IPB51222S_lag1</th><th>TWEXAFEGSMTHx_MOM_lag1</th><th>IPNMAT_MOM_lag1</th><th>RPI_YOY_lag1</th><th>BUSINVx_MOM_lag1</th><th>WPSFD49207_MOM_lag1</th><th>ANDENOx_MOM_lag1</th><th>CLAIMSx_MOM_lag1</th><th>WPSID62_MOM_lag1</th><th>PERMITNE_lag1</th><th>CUSR0000SAD_YOY_lag1</th><th>CPITRNSL_MOM_lag1</th><th>UEMP15T26_MOM_lag1</th><th>EXSZUSx_MOM_lag1</th></tr><tr><td>str</td><td>f64</td><td>f64</td><td>f64</td><td>f64</td><td>f64</td><td>f64</td><td>f64</td><td>f64</td><td>f64</td><td>f64</td><td>f64</td><td>f64</td><td>f64</td><td>f64</td><td>f64</td><td>f64</td><td>f64</td><td>f64</td><td>f64</td><td>f64</td><td>f64</td><td>i64</td><td>f64</td><td>f64</td><td>f64</td><td>f64</td><td>f64</td><td>f64</td><td>f64</td><td>f64</td><td>f64</td><td>f64</td><td>f64</td><td>f64</td><td>f64</td><td>f64</td><td>f64</td><td>f64</td><td>f64</td><td>f64</td><td>f64</td><td>f64</td><td>f64</td><td>f64</td><td>f64</td><td>f64</td><td>f64</td><td>i64</td><td>f64</td><td>f64</td><td>f64</td><td>f64</td></tr></thead><tbody><tr><td>&quot;1959-01-01&quot;</td><td>null</td><td>null</td><td>null</td><td>null</td><td>null</td><td>null</td><td>null</td><td>null</td><td>null</td><td>null</td><td>39.8</td><td>null</td><td>19.9173</td><td>null</td><td>null</td><td>null</td><td>null</td><td>null</td><td>null</td><td>null</td><td>null</td><td>null</td><td>null</td><td>null</td><td>null</td><td>null</td><td>null</td><td>null</td><td>null</td><td>null</td><td>null</td><td>null</td><td>null</td><td>null</td><td>null</td><td>null</td><td>null</td><td>null</td><td>null</td><td>null</td><td>null</td><td>null</td><td>null</td><td>null</td><td>null</td><td>null</td><td>null</td><td>null</td><td>null</td><td>null</td><td>null</td><td>null</td></tr><tr><td>&quot;1959-02-01&quot;</td><td>-0.034471</td><td>-1.587302</td><td>0.0</td><td>null</td><td>null</td><td>null</td><td>-0.149749</td><td>null</td><td>null</td><td>null</td><td>39.7</td><td>0.362737</td><td>19.8631</td><td>null</td><td>1.751079</td><td>null</td><td>0.344274</td><td>0.302115</td><td>null</td><td>-2.78963</td><td>-0.632911</td><td>null</td><td>null</td><td>0.341297</td><td>-8.249158</td><td>0.025509</td><td>null</td><td>null</td><td>null</td><td>null</td><td>null</td><td>null</td><td>null</td><td>null</td><td>null</td><td>null</td><td>39.8</td><td>null</td><td>19.9173</td><td>null</td><td>null</td><td>null</td><td>null</td><td>null</td><td>null</td><td>null</td><td>null</td><td>null</td><td>null</td><td>null</td><td>null</td><td>null</td></tr><tr><td>&quot;1959-03-01&quot;</td><td>-0.103448</td><td>-1.075269</td><td>-1.0</td><td>null</td><td>null</td><td>null</td><td>3.155764</td><td>null</td><td>null</td><td>null</td><td>40.0</td><td>0.735173</td><td>19.9986</td><td>null</td><td>1.502019</td><td>null</td><td>0.514639</td><td>0.0</td><td>null</td><td>-7.991292</td><td>0.318471</td><td>null</td><td>null</td><td>0.680272</td><td>-2.752294</td><td>0.220249</td><td>-0.034471</td><td>-1.587302</td><td>0.0</td><td>null</td><td>null</td><td>null</td><td>-0.149749</td><td>null</td><td>null</td><td>null</td><td>39.7</td><td>0.362737</td><td>19.8631</td><td>null</td><td>1.751079</td><td>null</td><td>0.344274</td><td>0.302115</td><td>null</td><td>-2.78963</td><td>-0.632911</td><td>null</td><td>null</td><td>0.341297</td><td>-8.249158</td><td>0.025509</td></tr><tr><td>&quot;1959-04-01&quot;</td><td>0.034518</td><td>1.630435</td><td>0.0</td><td>null</td><td>null</td><td>null</td><td>1.440165</td><td>null</td><td>null</td><td>null</td><td>40.2</td><td>0.705345</td><td>20.0799</td><td>null</td><td>3.09727</td><td>null</td><td>1.342587</td><td>0.0</td><td>null</td><td>-5.351724</td><td>0.634921</td><td>null</td><td>null</td><td>0.337838</td><td>-23.018868</td><td>-0.004627</td><td>-0.103448</td><td>-1.075269</td><td>-1.0</td><td>null</td><td>null</td><td>null</td><td>3.155764</td><td>null</td><td>null</td><td>null</td><td>40.0</td><td>0.735173</td><td>19.9986</td><td>null</td><td>1.502019</td><td>null</td><td>0.514639</td><td>0.0</td><td>null</td><td>-7.991292</td><td>0.318471</td><td>null</td><td>null</td><td>0.680272</td><td>-2.752294</td><td>0.220249</td></tr><tr><td>&quot;1959-05-01&quot;</td><td>0.207039</td><td>-0.534759</td><td>0.0</td><td>null</td><td>null</td><td>null</td><td>1.147522</td><td>null</td><td>null</td><td>null</td><td>40.3</td><td>0.663968</td><td>20.3779</td><td>null</td><td>0.898387</td><td>null</td><td>0.572583</td><td>0.301205</td><td>null</td><td>0.218738</td><td>-0.630915</td><td>null</td><td>null</td><td>0.0</td><td>-4.411765</td><td>0.004627</td><td>0.034518</td><td>1.630435</td><td>0.0</td><td>null</td><td>null</td><td>null</td><td>1.440165</td><td>null</td><td>null</td><td>null</td><td>40.2</td><td>0.705345</td><td>20.0799</td><td>null</td><td>3.09727</td><td>null</td><td>1.342587</td><td>0.0</td><td>null</td><td>-5.351724</td><td>0.634921</td><td>null</td><td>null</td><td>0.337838</td><td>-23.018868</td><td>-0.004627</td></tr><tr><td>&hellip;</td><td>&hellip;</td><td>&hellip;</td><td>&hellip;</td><td>&hellip;</td><td>&hellip;</td><td>&hellip;</td><td>&hellip;</td><td>&hellip;</td><td>&hellip;</td><td>&hellip;</td><td>&hellip;</td><td>&hellip;</td><td>&hellip;</td><td>&hellip;</td><td>&hellip;</td><td>&hellip;</td><td>&hellip;</td><td>&hellip;</td><td>&hellip;</td><td>&hellip;</td><td>&hellip;</td><td>&hellip;</td><td>&hellip;</td><td>&hellip;</td><td>&hellip;</td><td>&hellip;</td><td>&hellip;</td><td>&hellip;</td><td>&hellip;</td><td>&hellip;</td><td>&hellip;</td><td>&hellip;</td><td>&hellip;</td><td>&hellip;</td><td>&hellip;</td><td>&hellip;</td><td>&hellip;</td><td>&hellip;</td><td>&hellip;</td><td>&hellip;</td><td>&hellip;</td><td>&hellip;</td><td>&hellip;</td><td>&hellip;</td><td>&hellip;</td><td>&hellip;</td><td>&hellip;</td><td>&hellip;</td><td>&hellip;</td><td>&hellip;</td><td>&hellip;</td><td>&hellip;</td></tr><tr><td>&quot;2024-09-01&quot;</td><td>0.229204</td><td>-2.538316</td><td>-8.398539</td><td>-1.906667</td><td>3.187457</td><td>-21.458124</td><td>1.941102</td><td>3.230271</td><td>-0.02984</td><td>5.26118</td><td>40.6</td><td>0.023957</td><td>104.8225</td><td>-1.136903</td><td>0.422985</td><td>2.679391</td><td>0.024616</td><td>-0.050843</td><td>-3.457909</td><td>-2.922078</td><td>-1.940554</td><td>127</td><td>-2.919128</td><td>0.124261</td><td>-1.734605</td><td>-1.247232</td><td>0.180185</td><td>0.572346</td><td>-6.259169</td><td>-2.216907</td><td>2.902998</td><td>-5.786952</td><td>-1.614604</td><td>3.947166</td><td>-0.71782</td><td>5.324773</td><td>40.5</td><td>-0.01167</td><td>107.2787</td><td>-1.886237</td><td>0.039687</td><td>2.620612</td><td>0.342383</td><td>0.146923</td><td>-4.435353</td><td>-3.043022</td><td>-3.16355</td><td>145</td><td>-4.201343</td><td>0.056955</td><td>6.957328</td><td>-3.790513</td></tr><tr><td>&quot;2024-10-01&quot;</td><td>0.226456</td><td>-0.778547</td><td>2.491458</td><td>-1.636057</td><td>3.156363</td><td>-15.938814</td><td>2.404337</td><td>3.409688</td><td>0.081882</td><td>5.367868</td><td>40.5</td><td>0.349442</td><td>105.117</td><td>2.051494</td><td>-0.149743</td><td>2.774385</td><td>0.047904</td><td>-0.070673</td><td>3.085374</td><td>5.685619</td><td>2.261426</td><td>142</td><td>-2.47072</td><td>0.073201</td><td>8.649603</td><td>1.664306</td><td>0.229204</td><td>-2.538316</td><td>-8.398539</td><td>-1.906667</td><td>3.187457</td><td>-21.458124</td><td>1.941102</td><td>3.230271</td><td>-0.02984</td><td>5.26118</td><td>40.6</td><td>0.023957</td><td>104.8225</td><td>-1.136903</td><td>0.422985</td><td>2.679391</td><td>0.024616</td><td>-0.050843</td><td>-3.457909</td><td>-2.922078</td><td>-1.940554</td><td>127</td><td>-2.919128</td><td>0.124261</td><td>-1.734605</td><td>-1.247232</td></tr><tr><td>&quot;2024-11-01&quot;</td><td>0.28045</td><td>1.407398</td><td>-2.833727</td><td>-1.222187</td><td>3.159624</td><td>-9.962672</td><td>null</td><td>1.837901</td><td>0.016121</td><td>5.180768</td><td>40.5</td><td>0.27601</td><td>100.5889</td><td>2.282347</td><td>0.577498</td><td>2.545348</td><td>0.122796</td><td>0.803985</td><td>-3.177881</td><td>-7.594937</td><td>-0.016345</td><td>140</td><td>-2.020145</td><td>0.337889</td><td>0.406174</td><td>2.27563</td><td>0.226456</td><td>-0.778547</td><td>2.491458</td><td>-1.636057</td><td>3.156363</td><td>-15.938814</td><td>2.404337</td><td>3.409688</td><td>0.081882</td><td>5.367868</td><td>40.5</td><td>0.349442</td><td>105.117</td><td>2.051494</td><td>-0.149743</td><td>2.774385</td><td>0.047904</td><td>-0.070673</td><td>3.085374</td><td>5.685619</td><td>2.261426</td><td>142</td><td>-2.47072</td><td>0.073201</td><td>8.649603</td><td>1.664306</td></tr><tr><td>&quot;2024-12-01&quot;</td><td>0.364672</td><td>-0.503562</td><td>0.243031</td><td>-1.273592</td><td>3.134163</td><td>-2.475661</td><td>null</td><td>0.542091</td><td>0.278449</td><td>4.384672</td><td>40.5</td><td>0.139151</td><td>106.2792</td><td>1.366468</td><td>0.942108</td><td>2.438137</td><td>-0.171627</td><td>0.760952</td><td>-7.812426</td><td>1.940639</td><td>3.573092</td><td>147</td><td>-1.861043</td><td>1.192692</td><td>-2.346278</td><td>1.214667</td><td>0.28045</td><td>1.407398</td><td>-2.833727</td><td>-1.222187</td><td>3.159624</td><td>-9.962672</td><td>null</td><td>1.837901</td><td>0.016121</td><td>5.180768</td><td>40.5</td><td>0.27601</td><td>100.5889</td><td>2.282347</td><td>0.577498</td><td>2.545348</td><td>0.122796</td><td>0.803985</td><td>-3.177881</td><td>-7.594937</td><td>-0.016345</td><td>140</td><td>-2.020145</td><td>0.337889</td><td>0.406174</td><td>2.27563</td></tr><tr><td>&quot;2025-01-01&quot;</td><td>0.466935</td><td>0.469078</td><td>8.014832</td><td>-1.160071</td><td>2.977912</td><td>2.144302</td><td>null</td><td>null</td><td>null</td><td>4.963235</td><td>40.4</td><td>0.346175</td><td>118.7044</td><td>1.347714</td><td>-0.53822</td><td>2.060333</td><td>null</td><td>0.433459</td><td>null</td><td>-4.703247</td><td>5.470085</td><td>137</td><td>-1.205459</td><td>1.223981</td><td>-3.811102</td><td>2.018843</td><td>0.364672</td><td>-0.503562</td><td>0.243031</td><td>-1.273592</td><td>3.134163</td><td>-2.475661</td><td>null</td><td>0.542091</td><td>0.278449</td><td>4.384672</td><td>40.5</td><td>0.139151</td><td>106.2792</td><td>1.366468</td><td>0.942108</td><td>2.438137</td><td>-0.171627</td><td>0.760952</td><td>-7.812426</td><td>1.940639</td><td>3.573092</td><td>147</td><td>-1.861043</td><td>1.192692</td><td>-2.346278</td><td>1.214667</td></tr></tbody></table></div>"
      ],
      "text/plain": [
       "shape: (793, 53)\n",
       "┌───────────┬───────────┬───────────┬───────────┬───┬───────────┬───────────┬───────────┬──────────┐\n",
       "│ sasdate   ┆ CPIAUCSL_ ┆ TOTRESNS_ ┆ OILPRICEx ┆ … ┆ CUSR0000S ┆ CPITRNSL_ ┆ UEMP15T26 ┆ EXSZUSx_ │\n",
       "│ ---       ┆ MOM       ┆ MOM       ┆ _MOM      ┆   ┆ AD_YOY_la ┆ MOM_lag1  ┆ _MOM_lag1 ┆ MOM_lag1 │\n",
       "│ str       ┆ ---       ┆ ---       ┆ ---       ┆   ┆ g1        ┆ ---       ┆ ---       ┆ ---      │\n",
       "│           ┆ f64       ┆ f64       ┆ f64       ┆   ┆ ---       ┆ f64       ┆ f64       ┆ f64      │\n",
       "│           ┆           ┆           ┆           ┆   ┆ f64       ┆           ┆           ┆          │\n",
       "╞═══════════╪═══════════╪═══════════╪═══════════╪═══╪═══════════╪═══════════╪═══════════╪══════════╡\n",
       "│ 1959-01-0 ┆ null      ┆ null      ┆ null      ┆ … ┆ null      ┆ null      ┆ null      ┆ null     │\n",
       "│ 1         ┆           ┆           ┆           ┆   ┆           ┆           ┆           ┆          │\n",
       "│ 1959-02-0 ┆ -0.034471 ┆ -1.587302 ┆ 0.0       ┆ … ┆ null      ┆ null      ┆ null      ┆ null     │\n",
       "│ 1         ┆           ┆           ┆           ┆   ┆           ┆           ┆           ┆          │\n",
       "│ 1959-03-0 ┆ -0.103448 ┆ -1.075269 ┆ -1.0      ┆ … ┆ null      ┆ 0.341297  ┆ -8.249158 ┆ 0.025509 │\n",
       "│ 1         ┆           ┆           ┆           ┆   ┆           ┆           ┆           ┆          │\n",
       "│ 1959-04-0 ┆ 0.034518  ┆ 1.630435  ┆ 0.0       ┆ … ┆ null      ┆ 0.680272  ┆ -2.752294 ┆ 0.220249 │\n",
       "│ 1         ┆           ┆           ┆           ┆   ┆           ┆           ┆           ┆          │\n",
       "│ 1959-05-0 ┆ 0.207039  ┆ -0.534759 ┆ 0.0       ┆ … ┆ null      ┆ 0.337838  ┆ -23.01886 ┆ -0.00462 │\n",
       "│ 1         ┆           ┆           ┆           ┆   ┆           ┆           ┆ 8         ┆ 7        │\n",
       "│ …         ┆ …         ┆ …         ┆ …         ┆ … ┆ …         ┆ …         ┆ …         ┆ …        │\n",
       "│ 2024-09-0 ┆ 0.229204  ┆ -2.538316 ┆ -8.398539 ┆ … ┆ -4.201343 ┆ 0.056955  ┆ 6.957328  ┆ -3.79051 │\n",
       "│ 1         ┆           ┆           ┆           ┆   ┆           ┆           ┆           ┆ 3        │\n",
       "│ 2024-10-0 ┆ 0.226456  ┆ -0.778547 ┆ 2.491458  ┆ … ┆ -2.919128 ┆ 0.124261  ┆ -1.734605 ┆ -1.24723 │\n",
       "│ 1         ┆           ┆           ┆           ┆   ┆           ┆           ┆           ┆ 2        │\n",
       "│ 2024-11-0 ┆ 0.28045   ┆ 1.407398  ┆ -2.833727 ┆ … ┆ -2.47072  ┆ 0.073201  ┆ 8.649603  ┆ 1.664306 │\n",
       "│ 1         ┆           ┆           ┆           ┆   ┆           ┆           ┆           ┆          │\n",
       "│ 2024-12-0 ┆ 0.364672  ┆ -0.503562 ┆ 0.243031  ┆ … ┆ -2.020145 ┆ 0.337889  ┆ 0.406174  ┆ 2.27563  │\n",
       "│ 1         ┆           ┆           ┆           ┆   ┆           ┆           ┆           ┆          │\n",
       "│ 2025-01-0 ┆ 0.466935  ┆ 0.469078  ┆ 8.014832  ┆ … ┆ -1.861043 ┆ 1.192692  ┆ -2.346278 ┆ 1.214667 │\n",
       "│ 1         ┆           ┆           ┆           ┆   ┆           ┆           ┆           ┆          │\n",
       "└───────────┴───────────┴───────────┴───────────┴───┴───────────┴───────────┴───────────┴──────────┘"
      ]
     },
     "execution_count": 5,
     "metadata": {},
     "output_type": "execute_result"
    }
   ],
   "source": [
    "df_with_lag = df.with_columns([\n",
    "    pl.col(col).shift(1).alias(f\"{col}_lag1\") \n",
    "    for col in df.columns \n",
    "    if col != \"sasdate\"\n",
    "])\n",
    "\n",
    "df_with_lag"
   ]
  },
  {
   "cell_type": "code",
   "execution_count": 10,
   "metadata": {},
   "outputs": [],
   "source": [
    "import datetime\n",
    "\n",
    "post_2008_df = df_with_lag.filter(\n",
    "    pl.col(\"sasdate\").str.strptime(pl.Date, \"%Y-%m-%d\") >= datetime.date(2008, 1, 1)\n",
    ")\n",
    "\n",
    "filtered_df = df_with_lag.with_columns(\n",
    "    pl.col(\"sasdate\").str.strptime(pl.Date, \"%Y-%m-%d\").alias(\"date\")\n",
    ").filter(\n",
    "    (pl.col(\"date\") >= datetime.date(1970, 1, 1)) & \n",
    "    (pl.col(\"date\") <= datetime.date(2005, 12, 31))\n",
    ")"
   ]
  },
  {
   "cell_type": "markdown",
   "metadata": {},
   "source": [
    "## Decision Tree Regressor"
   ]
  },
  {
   "cell_type": "code",
   "execution_count": 11,
   "metadata": {},
   "outputs": [],
   "source": [
    "target = \"CPIAUCSL_MOM\"\n",
    "lag_cols = [col for col in post_2008_df.columns if col.endswith(\"_lag1\") and col != f\"{target}_lag1\"]"
   ]
  },
  {
   "cell_type": "code",
   "execution_count": 12,
   "metadata": {},
   "outputs": [
    {
     "name": "stdout",
     "output_type": "stream",
     "text": [
      "Decision Tree Regressor Performance:\n",
      "Mean Squared Error: 0.000000\n",
      "Root Mean Squared Error: 0.000000\n",
      "R² Score: 1.000000\n",
      "\n",
      "Top 10 most important features:\n"
     ]
    },
    {
     "data": {
      "text/html": [
       "<div>\n",
       "<style scoped>\n",
       "    .dataframe tbody tr th:only-of-type {\n",
       "        vertical-align: middle;\n",
       "    }\n",
       "\n",
       "    .dataframe tbody tr th {\n",
       "        vertical-align: top;\n",
       "    }\n",
       "\n",
       "    .dataframe thead th {\n",
       "        text-align: right;\n",
       "    }\n",
       "</style>\n",
       "<table border=\"1\" class=\"dataframe\">\n",
       "  <thead>\n",
       "    <tr style=\"text-align: right;\">\n",
       "      <th></th>\n",
       "      <th>Feature</th>\n",
       "      <th>Importance</th>\n",
       "    </tr>\n",
       "  </thead>\n",
       "  <tbody>\n",
       "    <tr>\n",
       "      <th>0</th>\n",
       "      <td>TOTRESNS_MOM_lag1</td>\n",
       "      <td>0.302883</td>\n",
       "    </tr>\n",
       "    <tr>\n",
       "      <th>21</th>\n",
       "      <td>CUSR0000SAD_YOY_lag1</td>\n",
       "      <td>0.177568</td>\n",
       "    </tr>\n",
       "    <tr>\n",
       "      <th>1</th>\n",
       "      <td>OILPRICEx_MOM_lag1</td>\n",
       "      <td>0.127235</td>\n",
       "    </tr>\n",
       "    <tr>\n",
       "      <th>4</th>\n",
       "      <td>OILPRICEx_YOY_lag1</td>\n",
       "      <td>0.065782</td>\n",
       "    </tr>\n",
       "    <tr>\n",
       "      <th>19</th>\n",
       "      <td>WPSID62_MOM_lag1</td>\n",
       "      <td>0.062409</td>\n",
       "    </tr>\n",
       "    <tr>\n",
       "      <th>18</th>\n",
       "      <td>CLAIMSx_MOM_lag1</td>\n",
       "      <td>0.032444</td>\n",
       "    </tr>\n",
       "    <tr>\n",
       "      <th>8</th>\n",
       "      <td>CES3000000008_YOY_lag1</td>\n",
       "      <td>0.032068</td>\n",
       "    </tr>\n",
       "    <tr>\n",
       "      <th>17</th>\n",
       "      <td>ANDENOx_MOM_lag1</td>\n",
       "      <td>0.026116</td>\n",
       "    </tr>\n",
       "    <tr>\n",
       "      <th>7</th>\n",
       "      <td>ACOGNO_MOM_lag1</td>\n",
       "      <td>0.025852</td>\n",
       "    </tr>\n",
       "    <tr>\n",
       "      <th>15</th>\n",
       "      <td>BUSINVx_MOM_lag1</td>\n",
       "      <td>0.023796</td>\n",
       "    </tr>\n",
       "  </tbody>\n",
       "</table>\n",
       "</div>"
      ],
      "text/plain": [
       "                   Feature  Importance\n",
       "0        TOTRESNS_MOM_lag1    0.302883\n",
       "21    CUSR0000SAD_YOY_lag1    0.177568\n",
       "1       OILPRICEx_MOM_lag1    0.127235\n",
       "4       OILPRICEx_YOY_lag1    0.065782\n",
       "19        WPSID62_MOM_lag1    0.062409\n",
       "18        CLAIMSx_MOM_lag1    0.032444\n",
       "8   CES3000000008_YOY_lag1    0.032068\n",
       "17        ANDENOx_MOM_lag1    0.026116\n",
       "7          ACOGNO_MOM_lag1    0.025852\n",
       "15        BUSINVx_MOM_lag1    0.023796"
      ]
     },
     "metadata": {},
     "output_type": "display_data"
    }
   ],
   "source": [
    "import numpy as np\n",
    "from sklearn.tree import DecisionTreeRegressor\n",
    "from sklearn.model_selection import train_test_split\n",
    "from sklearn.metrics import mean_squared_error, r2_score\n",
    "\n",
    "X = post_2008_df.select(lag_cols).drop_nulls().to_pandas()\n",
    "y = post_2008_df.select(target).drop_nulls().to_pandas()\n",
    "\n",
    "min_rows = min(len(X), len(y))\n",
    "X = X.iloc[:min_rows]\n",
    "y = y.iloc[:min_rows]\n",
    "\n",
    "\n",
    "# Create and fit the decision tree regressor\n",
    "dt_regressor = DecisionTreeRegressor(random_state=42)\n",
    "dt_regressor.fit(X, y)\n",
    "\n",
    "# Make predictions\n",
    "y_pred = dt_regressor.predict(X)\n",
    "\n",
    "# Evaluate the model\n",
    "mse = mean_squared_error(y, y_pred)\n",
    "rmse = np.sqrt(mse)\n",
    "r2 = r2_score(y, y_pred)\n",
    "\n",
    "print(f\"Decision Tree Regressor Performance:\")\n",
    "print(f\"Mean Squared Error: {mse:.6f}\")\n",
    "print(f\"Root Mean Squared Error: {rmse:.6f}\")\n",
    "print(f\"R² Score: {r2:.6f}\")\n",
    "\n",
    "# Feature importance\n",
    "feature_importance = pd.DataFrame({\n",
    "    'Feature': X.columns,\n",
    "    'Importance': dt_regressor.feature_importances_\n",
    "}).sort_values('Importance', ascending=False)\n",
    "\n",
    "print(\"\\nTop 10 most important features:\")\n",
    "display(feature_importance.head(10))\n"
   ]
  },
  {
   "cell_type": "code",
   "execution_count": 13,
   "metadata": {},
   "outputs": [],
   "source": [
    "filtered_df_pd = filtered_df.to_pandas().dropna(subset=lag_cols + [target])\n",
    "\n",
    "X_test = filtered_df_pd[lag_cols]\n",
    "y_test = filtered_df_pd[target]\n",
    "y_pred_test = dt_regressor.predict(X_test)\n",
    "\n"
   ]
  },
  {
   "cell_type": "code",
   "execution_count": null,
   "metadata": {},
   "outputs": [],
   "source": []
  }
 ],
 "metadata": {
  "kernelspec": {
   "display_name": "base",
   "language": "python",
   "name": "python3"
  },
  "language_info": {
   "codemirror_mode": {
    "name": "ipython",
    "version": 3
   },
   "file_extension": ".py",
   "mimetype": "text/x-python",
   "name": "python",
   "nbconvert_exporter": "python",
   "pygments_lexer": "ipython3",
   "version": "3.12.9"
  }
 },
 "nbformat": 4,
 "nbformat_minor": 2
}
